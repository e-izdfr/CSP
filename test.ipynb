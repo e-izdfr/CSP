{
 "cells": [
  {
   "cell_type": "code",
   "execution_count": 6,
   "metadata": {},
   "outputs": [
    {
     "name": "stdout",
     "output_type": "stream",
     "text": [
      "crazy\n",
      "\n",
      "car\n"
     ]
    }
   ],
   "source": [
    "print('crazy')\n",
    "print()\n",
    "print('car')"
   ]
  }
 ],
 "metadata": {
  "interpreter": {
   "hash": "b7c15290c217f38f758fd96e937b85bc4b0b98d272b9d39acb0510b74b56e65e"
  },
  "kernelspec": {
   "display_name": "Python 3.9.6 64-bit",
   "language": "python",
   "name": "python3"
  },
  "language_info": {
   "codemirror_mode": {
    "name": "ipython",
    "version": 3
   },
   "file_extension": ".py",
   "mimetype": "text/x-python",
   "name": "python",
   "nbconvert_exporter": "python",
   "pygments_lexer": "ipython3",
   "version": "3.9.6"
  },
  "orig_nbformat": 4
 },
 "nbformat": 4,
 "nbformat_minor": 2
}
